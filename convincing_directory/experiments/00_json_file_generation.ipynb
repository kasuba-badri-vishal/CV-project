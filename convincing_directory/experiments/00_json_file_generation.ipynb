{
 "cells": [
  {
   "cell_type": "markdown",
   "id": "c0ed379f",
   "metadata": {},
   "source": [
    "### Imports"
   ]
  },
  {
   "cell_type": "code",
   "execution_count": 26,
   "id": "0d531b2d",
   "metadata": {},
   "outputs": [],
   "source": [
    "import pandas as pd\n",
    "import json\n",
    "import os"
   ]
  },
  {
   "cell_type": "markdown",
   "id": "13d305c3",
   "metadata": {},
   "source": [
    "### Configuration"
   ]
  },
  {
   "cell_type": "code",
   "execution_count": 29,
   "id": "23ddde02",
   "metadata": {},
   "outputs": [],
   "source": [
    "sets = ['train', 'val', 'test']\n",
    "index = 0\n",
    "\n",
    "src_path  = './../data/' + sets[index] + 'set/' + sets[index] + '.txt'\n",
    "dest_path = './../data/' + sets[index] + 'set/' + 'labels.json'\n",
    "\n",
    "ori_name = './../data/' + sets[index] + 'set/' + sets[index]\n",
    "pro_name = './../data/' + sets[index] + 'set/' + 'images'"
   ]
  },
  {
   "cell_type": "markdown",
   "id": "4ba32560",
   "metadata": {},
   "source": [
    "### Processing Data"
   ]
  },
  {
   "cell_type": "code",
   "execution_count": 30,
   "id": "5912feaf",
   "metadata": {},
   "outputs": [],
   "source": [
    "df = pd.read_csv(src_path, sep=' ', names=['file','token'])\n",
    "df['file'] = df['file'].apply(lambda x : x[len(sets[index])+1:])\n",
    "\n",
    "data = dict(zip(df.file, df.token))\n",
    "with open(dest_path, 'w', encoding='utf-8') as f:\n",
    "    json.dump(data, f, ensure_ascii=False, indent=4)\n",
    "    \n",
    "if not (os.path.exists(pro_name)):\n",
    "    os.rename(ori_name, pro_name)"
   ]
  }
 ],
 "metadata": {
  "kernelspec": {
   "display_name": "Python 3 (ipykernel)",
   "language": "python",
   "name": "python3"
  },
  "language_info": {
   "codemirror_mode": {
    "name": "ipython",
    "version": 3
   },
   "file_extension": ".py",
   "mimetype": "text/x-python",
   "name": "python",
   "nbconvert_exporter": "python",
   "pygments_lexer": "ipython3",
   "version": "3.10.6"
  }
 },
 "nbformat": 4,
 "nbformat_minor": 5
}
