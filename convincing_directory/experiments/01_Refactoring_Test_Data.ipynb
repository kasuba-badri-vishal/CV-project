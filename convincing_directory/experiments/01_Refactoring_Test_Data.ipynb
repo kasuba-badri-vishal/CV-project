{
 "cells": [
  {
   "cell_type": "code",
   "execution_count": 16,
   "id": "7f99eb5a",
   "metadata": {},
   "outputs": [],
   "source": [
    "import pandas as pd\n",
    "import json"
   ]
  },
  {
   "cell_type": "code",
   "execution_count": 17,
   "id": "7101c133",
   "metadata": {},
   "outputs": [],
   "source": [
    "file = '/data/BADRI/IHTR/testset_small/telugu/labels.json'\n",
    "\n",
    "with open(file) as json_file:\n",
    "    data = json.load(json_file)"
   ]
  },
  {
   "cell_type": "code",
   "execution_count": 18,
   "id": "fe35d04f",
   "metadata": {},
   "outputs": [],
   "source": [
    "df = pd.DataFrame.from_dict(data, orient='index').reset_index()\n",
    "df.columns = ['file','token']\n",
    "df['token'] = \"\""
   ]
  },
  {
   "cell_type": "code",
   "execution_count": 19,
   "id": "4b35da7d",
   "metadata": {},
   "outputs": [
    {
     "data": {
      "text/html": [
       "<div>\n",
       "<style scoped>\n",
       "    .dataframe tbody tr th:only-of-type {\n",
       "        vertical-align: middle;\n",
       "    }\n",
       "\n",
       "    .dataframe tbody tr th {\n",
       "        vertical-align: top;\n",
       "    }\n",
       "\n",
       "    .dataframe thead th {\n",
       "        text-align: right;\n",
       "    }\n",
       "</style>\n",
       "<table border=\"1\" class=\"dataframe\">\n",
       "  <thead>\n",
       "    <tr style=\"text-align: right;\">\n",
       "      <th></th>\n",
       "      <th>file</th>\n",
       "      <th>token</th>\n",
       "    </tr>\n",
       "  </thead>\n",
       "  <tbody>\n",
       "    <tr>\n",
       "      <th>0</th>\n",
       "      <td>375739_0_6_4yNWymd.jpg</td>\n",
       "      <td></td>\n",
       "    </tr>\n",
       "    <tr>\n",
       "      <th>1</th>\n",
       "      <td>375739_0_11_4V9IBBs.jpg</td>\n",
       "      <td></td>\n",
       "    </tr>\n",
       "    <tr>\n",
       "      <th>2</th>\n",
       "      <td>375739_0_12_9TDKjvx.jpg</td>\n",
       "      <td></td>\n",
       "    </tr>\n",
       "    <tr>\n",
       "      <th>3</th>\n",
       "      <td>375739_0_15_dcRbfKL.jpg</td>\n",
       "      <td></td>\n",
       "    </tr>\n",
       "    <tr>\n",
       "      <th>4</th>\n",
       "      <td>375739_0_23_hIH16QM.jpg</td>\n",
       "      <td></td>\n",
       "    </tr>\n",
       "    <tr>\n",
       "      <th>...</th>\n",
       "      <td>...</td>\n",
       "      <td>...</td>\n",
       "    </tr>\n",
       "    <tr>\n",
       "      <th>4995</th>\n",
       "      <td>371436_0_30_JJBU2Kr.jpg</td>\n",
       "      <td></td>\n",
       "    </tr>\n",
       "    <tr>\n",
       "      <th>4996</th>\n",
       "      <td>371436_0_32_gqewQgc.jpg</td>\n",
       "      <td></td>\n",
       "    </tr>\n",
       "    <tr>\n",
       "      <th>4997</th>\n",
       "      <td>367324_0_1_4LLvDXr.jpg</td>\n",
       "      <td></td>\n",
       "    </tr>\n",
       "    <tr>\n",
       "      <th>4998</th>\n",
       "      <td>367324_0_2_P6qot8f.jpg</td>\n",
       "      <td></td>\n",
       "    </tr>\n",
       "    <tr>\n",
       "      <th>4999</th>\n",
       "      <td>367324_0_6_OZlrXUS.jpg</td>\n",
       "      <td></td>\n",
       "    </tr>\n",
       "  </tbody>\n",
       "</table>\n",
       "<p>5000 rows × 2 columns</p>\n",
       "</div>"
      ],
      "text/plain": [
       "                         file token\n",
       "0      375739_0_6_4yNWymd.jpg      \n",
       "1     375739_0_11_4V9IBBs.jpg      \n",
       "2     375739_0_12_9TDKjvx.jpg      \n",
       "3     375739_0_15_dcRbfKL.jpg      \n",
       "4     375739_0_23_hIH16QM.jpg      \n",
       "...                       ...   ...\n",
       "4995  371436_0_30_JJBU2Kr.jpg      \n",
       "4996  371436_0_32_gqewQgc.jpg      \n",
       "4997   367324_0_1_4LLvDXr.jpg      \n",
       "4998   367324_0_2_P6qot8f.jpg      \n",
       "4999   367324_0_6_OZlrXUS.jpg      \n",
       "\n",
       "[5000 rows x 2 columns]"
      ]
     },
     "execution_count": 19,
     "metadata": {},
     "output_type": "execute_result"
    }
   ],
   "source": [
    "df"
   ]
  },
  {
   "cell_type": "code",
   "execution_count": 20,
   "id": "b2243c3e",
   "metadata": {},
   "outputs": [],
   "source": [
    "data = dict(zip(df.file, df.token))\n",
    "with open(file, 'w', encoding='utf-8') as f:\n",
    "    json.dump(data, f, ensure_ascii=False, indent=4)"
   ]
  }
 ],
 "metadata": {
  "kernelspec": {
   "display_name": "Python 3 (ipykernel)",
   "language": "python",
   "name": "python3"
  },
  "language_info": {
   "codemirror_mode": {
    "name": "ipython",
    "version": 3
   },
   "file_extension": ".py",
   "mimetype": "text/x-python",
   "name": "python",
   "nbconvert_exporter": "python",
   "pygments_lexer": "ipython3",
   "version": "3.10.6"
  }
 },
 "nbformat": 4,
 "nbformat_minor": 5
}
