{
 "cells": [
  {
   "cell_type": "code",
   "execution_count": 1,
   "id": "e50fc83c",
   "metadata": {},
   "outputs": [],
   "source": [
    "import pandas as pd\n",
    "import os\n",
    "import numpy as np \n",
    "from tqdm import tqdm\n",
    "import shutil\n",
    "import json\n",
    "import matplotlib.pyplot as plt\n",
    "import matplotlib.image as mpimg\n",
    "import cv2 as cv"
   ]
  },
  {
   "cell_type": "markdown",
   "id": "07a1f0fd",
   "metadata": {},
   "source": [
    "## Location of Dataset"
   ]
  },
  {
   "cell_type": "code",
   "execution_count": 2,
   "id": "73d99557",
   "metadata": {},
   "outputs": [
    {
     "name": "stdout",
     "output_type": "stream",
     "text": [
      "Enter location to Data Folder : ../../data\n",
      "Data Folder : ['.DS_Store', 'train.txt', 'hindi_vocab.txt', 'HindiSeg', 'Readme.txt', 'test.txt', 'val.txt', 'lexicon.txt']\n"
     ]
    }
   ],
   "source": [
    "#Take data folder location as input\n",
    "src_dir = input(\"Enter location to Data Folder : \")\n",
    "\n",
    "if os.path.exists(src_dir):\n",
    "    dir_ = os.listdir(src_dir)\n",
    "    print(f\"Data Folder : {dir_}\")"
   ]
  },
  {
   "cell_type": "markdown",
   "id": "edab08cf",
   "metadata": {},
   "source": [
    "## Get data as frame"
   ]
  },
  {
   "cell_type": "code",
   "execution_count": 3,
   "id": "60851ffc",
   "metadata": {},
   "outputs": [],
   "source": [
    "#Find test.txt, train.txt, val.txt and load them as pandas frame\n",
    "\n",
    "train_index = dir_.index('train.txt')\n",
    "test_index = dir_.index('test.txt')\n",
    "val_index = dir_.index('val.txt')\n",
    "\n",
    "#Location\n",
    "train_txt = os.path.join(src_dir, dir_[train_index])\n",
    "test_txt = os.path.join(src_dir, dir_[test_index])\n",
    "val_txt = os.path.join(src_dir, dir_[val_index])\n",
    "# print(val_txt_loc)\n",
    "\n",
    "train_df = pd.read_csv(train_txt, sep=\" \", header=None, names=[\"files\", \"tokens\"])\n",
    "test_df = pd.read_csv(test_txt, sep=\" \", header=None, names=[\"files\", \"tokens\"])\n",
    "val_df = pd.read_csv(val_txt, sep=\" \", header=None, names=[\"files\", \"tokens\"])"
   ]
  },
  {
   "cell_type": "code",
   "execution_count": 4,
   "id": "bf73f344",
   "metadata": {
    "scrolled": true
   },
   "outputs": [
    {
     "data": {
      "text/html": [
       "<div>\n",
       "<style scoped>\n",
       "    .dataframe tbody tr th:only-of-type {\n",
       "        vertical-align: middle;\n",
       "    }\n",
       "\n",
       "    .dataframe tbody tr th {\n",
       "        vertical-align: top;\n",
       "    }\n",
       "\n",
       "    .dataframe thead th {\n",
       "        text-align: right;\n",
       "    }\n",
       "</style>\n",
       "<table border=\"1\" class=\"dataframe\">\n",
       "  <thead>\n",
       "    <tr style=\"text-align: right;\">\n",
       "      <th></th>\n",
       "      <th>files</th>\n",
       "      <th>tokens</th>\n",
       "    </tr>\n",
       "  </thead>\n",
       "  <tbody>\n",
       "    <tr>\n",
       "      <th>0</th>\n",
       "      <td>HindiSeg/train/8/251/21.jpg</td>\n",
       "      <td>केंद्रों</td>\n",
       "    </tr>\n",
       "    <tr>\n",
       "      <th>1</th>\n",
       "      <td>HindiSeg/train/10/207/8.jpg</td>\n",
       "      <td>पॉवर</td>\n",
       "    </tr>\n",
       "    <tr>\n",
       "      <th>2</th>\n",
       "      <td>HindiSeg/train/10/31/19.jpg</td>\n",
       "      <td>तरक्की</td>\n",
       "    </tr>\n",
       "    <tr>\n",
       "      <th>3</th>\n",
       "      <td>HindiSeg/train/5/246/23.jpg</td>\n",
       "      <td>मजा</td>\n",
       "    </tr>\n",
       "    <tr>\n",
       "      <th>4</th>\n",
       "      <td>HindiSeg/train/8/266/25.jpg</td>\n",
       "      <td>मांजने</td>\n",
       "    </tr>\n",
       "  </tbody>\n",
       "</table>\n",
       "</div>"
      ],
      "text/plain": [
       "                         files    tokens\n",
       "0  HindiSeg/train/8/251/21.jpg  केंद्रों\n",
       "1  HindiSeg/train/10/207/8.jpg      पॉवर\n",
       "2  HindiSeg/train/10/31/19.jpg    तरक्की\n",
       "3  HindiSeg/train/5/246/23.jpg       मजा\n",
       "4  HindiSeg/train/8/266/25.jpg    मांजने"
      ]
     },
     "execution_count": 4,
     "metadata": {},
     "output_type": "execute_result"
    }
   ],
   "source": [
    "# train_df.sort_values(\"files\", inplace=True)\n",
    "# train_df.sort_values(\"files\")\n",
    "train_df.head ()"
   ]
  },
  {
   "cell_type": "markdown",
   "id": "57364c09",
   "metadata": {},
   "source": [
    "## Make data set"
   ]
  },
  {
   "cell_type": "markdown",
   "id": "d0497ced",
   "metadata": {},
   "source": [
    "## Text Localization"
   ]
  },
  {
   "cell_type": "code",
   "execution_count": 7,
   "id": "2a5f0cf5",
   "metadata": {},
   "outputs": [],
   "source": [
    "def textLocalization(img):\n",
    "    \n",
    "    contours, _ = cv.findContours(img, cv.RETR_EXTERNAL, cv.CHAIN_APPROX_NONE)\n",
    "#     print(contours)\n",
    "    # Create a blank image with the same dimensions as the input image\n",
    "    #blank_image = np.zeros(img.shape, dtype=np.uint8)\n",
    "\n",
    "    # Draw contours on the blank image\n",
    "    #contour_image = cv.drawContours(blank_image, contours, -1, (255, 255, 255), 2)\n",
    "\n",
    "#     min_area = 100\n",
    "#     max_aspect_ratio = 10\n",
    "    \n",
    "    \n",
    "    img_copy = img.copy()\n",
    "    \n",
    "#     filtered_contours = []\n",
    "    for i, contour in enumerate(contours):\n",
    "        x, y, w, h = cv.boundingRect(contour)\n",
    "        rect = cv.rectangle(img_copy, (x, y), (x + w, y + h), (0, 255, 0), 2)\n",
    "        \n",
    "        cropped = img_copy[y:y + h, x:x + w]\n",
    "#         area = cv.contourArea(contour)\n",
    "#         aspect_ratio = float(w) / h\n",
    "#         print(f\"Contour {i+1}:\")\n",
    "#         print(f\"Bounding box: x={x}, y={y}, w={w}, h={h}\")\n",
    "#         print(f\"Area: {area}\")\n",
    "#         print(f\"Aspect ratio: {aspect_ratio}\\n\")\n",
    "\n",
    "#         if min_area < w * h and aspect_ratio < max_aspect_ratio:\n",
    "#             filtered_contours.append(contour)\n",
    "\n",
    "#     original_image_with_boxes = img.copy()\n",
    "#     for contour in filtered_contours:\n",
    "#         x, y, w, h = cv.boundingRect(contour)\n",
    "#         cv.rectangle(original_image_with_boxes, (x, y), (x + w, y + h), (255, 255, 255), 2)\n",
    "        \n",
    "\n",
    "    plt.figure(figsize=(20,10))\n",
    "    plt.subplot(1,2,1)\n",
    "    plt.imshow(img, cmap=\"gray\")\n",
    "    plt.axis(\"off\")\n",
    "\n",
    "    plt.subplot(1,2,2)\n",
    "    plt.imshow(rect, cmap=\"gray\")\n",
    "    plt.axis(\"off\")\n",
    "    plt.show()"
   ]
  },
  {
   "cell_type": "code",
   "execution_count": 527,
   "id": "d3552ee2",
   "metadata": {},
   "outputs": [],
   "source": [
    "# def textLocalization(img, min_area=100, max_aspect_ratio=10):\n",
    "#     contours, _ = cv.findContours(img, cv.RETR_EXTERNAL, cv.CHAIN_APPROX_SIMPLE)\n",
    "    \n",
    "#     img_copy = img.copy()\n",
    "    \n",
    "#     cropped_regions = []\n",
    "\n",
    "#     for contour in contours:\n",
    "#         x, y, w, h = cv.boundingRect(contour)\n",
    "#         aspect_ratio = float(w) / h\n",
    "        \n",
    "#         if min_area < w * h and aspect_ratio < max_aspect_ratio:\n",
    "#             cv.rectangle(img_copy, (x, y), (x + w, y + h), (0, 255, 0), 2)\n",
    "#             cropped = img[y:y + h, x:x + w]\n",
    "#             cropped_regions.append(cropped)\n",
    "    \n",
    "#     return cropped_regions\n"
   ]
  },
  {
   "cell_type": "code",
   "execution_count": 707,
   "id": "417f56a6",
   "metadata": {},
   "outputs": [],
   "source": [
    "# def textLocalization(img, min_area=100, max_aspect_ratio=2):\n",
    "#     # Find connected components with statistics\n",
    "#     _, labels, stats, _ = cv.connectedComponentsWithStats(img, connectivity=8)\n",
    "\n",
    "#     cropped_regions = []\n",
    "\n",
    "#     # Iterate through the connected components (skipping the background label)\n",
    "#     for i in range(1, len(stats)):\n",
    "#         x, y, w, h, area = stats[i]\n",
    "\n",
    "#         # Calculate the aspect ratio\n",
    "#         aspect_ratio = float(w) / h\n",
    "\n",
    "#         # Filter the components based on the area and aspect ratio\n",
    "#         if min_area < area and aspect_ratio < max_aspect_ratio:\n",
    "#             cropped = img[y:y + h, x:x + w]\n",
    "#             cropped_regions.append(cropped)\n",
    "\n",
    "#     return cropped_regions"
   ]
  },
  {
   "cell_type": "code",
   "execution_count": 6,
   "id": "d9224695",
   "metadata": {},
   "outputs": [],
   "source": [
    "slice_df = train_df.loc[0:100, \"files\"]\n",
    "img_locs = list(slice_df)\n",
    "\n",
    "img_locs = [os.path.join(src_dir, loc) for loc in img_locs]"
   ]
  },
  {
   "cell_type": "code",
   "execution_count": 8,
   "id": "09d686a0",
   "metadata": {},
   "outputs": [
    {
     "data": {
      "image/png": "[encoded data removed]",
      "text/plain": [
       "<Figure size 2000x1000 with 2 Axes>"
      ]
     },
     "metadata": {},
     "output_type": "display_data"
    }
   ],
   "source": [
    "grey_img = cv.imread(\"/Users/ltc/Desktop/sample.jpg\", cv.IMREAD_GRAYSCALE)\n",
    "ret, thresh1 = cv.threshold(grey_img, 0, 255, cv.THRESH_OTSU | cv.THRESH_BINARY_INV)\n",
    "\n",
    "rect_kernel = cv.getStructuringElement(cv.MORPH_RECT, (18, 18))\n",
    " \n",
    "# Applying dilation on the threshold image\n",
    "dilation = cv.dilate(thresh1, rect_kernel, iterations = 1)\n",
    "\n",
    "# img_gen_2 = imagePre([\"/Users/ltc/Desktop/sample.jpg\"])\n",
    "# unskewed_img = next(img_gen_2)\n",
    "\n",
    "textLocalization(dilation)\n",
    "\n",
    "# plt.figure(figsize=(8,6))\n",
    "# plt.imshow(regions[0], cmap=\"gray\")\n",
    "# plt.axis(\"off\")"
   ]
  }
 ],
 "metadata": {
  "kernelspec": {
   "display_name": "venv",
   "language": "python",
   "name": "venv"
  },
  "language_info": {
   "codemirror_mode": {
    "name": "ipython",
    "version": 3
   },
   "file_extension": ".py",
   "mimetype": "text/x-python",
   "name": "python",
   "nbconvert_exporter": "python",
   "pygments_lexer": "ipython3",
   "version": "3.11.1"
  }
 },
 "nbformat": 4,
 "nbformat_minor": 5
}
