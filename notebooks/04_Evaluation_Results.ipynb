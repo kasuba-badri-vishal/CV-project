{
 "cells": [
  {
   "cell_type": "markdown",
   "id": "4578aa28",
   "metadata": {},
   "source": [
    "### Imports"
   ]
  },
  {
   "cell_type": "code",
   "execution_count": 31,
   "id": "0d07d8a5",
   "metadata": {},
   "outputs": [],
   "source": [
    "import fastwer\n",
    "import pandas as pd\n",
    "import json\n",
    "import numpy as np"
   ]
  },
  {
   "cell_type": "markdown",
   "id": "bfa39de6",
   "metadata": {},
   "source": [
    "### Input files"
   ]
  },
  {
   "cell_type": "code",
   "execution_count": 32,
   "id": "d89bf756",
   "metadata": {},
   "outputs": [],
   "source": [
    "language = 'telugu'\n",
    "set_type = 'val'\n",
    "\n",
    "file = './../results/' + language + '_' + set_type + '_results.csv'"
   ]
  },
  {
   "cell_type": "code",
   "execution_count": 33,
   "id": "5ec76430",
   "metadata": {},
   "outputs": [],
   "source": [
    "df = pd.read_csv(file)\n",
    "df = df.replace(np.nan, \"\")"
   ]
  },
  {
   "cell_type": "code",
   "execution_count": 34,
   "id": "40e44b73",
   "metadata": {},
   "outputs": [],
   "source": [
    "preds = df['pred'].tolist()\n",
    "actual = df['actual'].tolist()"
   ]
  },
  {
   "cell_type": "code",
   "execution_count": 35,
   "id": "8b714578",
   "metadata": {},
   "outputs": [],
   "source": [
    "CER = fastwer.score(preds, actual, char_level=True)\n",
    "WER = fastwer.score(preds, actual)"
   ]
  },
  {
   "cell_type": "code",
   "execution_count": 36,
   "id": "52ec04f3",
   "metadata": {},
   "outputs": [
    {
     "name": "stdout",
     "output_type": "stream",
     "text": [
      "90.5647\n",
      "42.5\n"
     ]
    }
   ],
   "source": [
    "print(100-CER)\n",
    "print(100-WER)"
   ]
  },
  {
   "cell_type": "markdown",
   "id": "d233b756",
   "metadata": {},
   "source": [
    "### Devanagari"
   ]
  },
  {
   "cell_type": "code",
   "execution_count": 65,
   "id": "e4f067db",
   "metadata": {},
   "outputs": [
    {
     "name": "stdout",
     "output_type": "stream",
     "text": [
      "CER: 16.2739\n",
      "WER: 48.6\n"
     ]
    }
   ],
   "source": [
    "### With Continous pt file of training\n",
    "\n",
    "print(\"CER:\", CER)\n",
    "print(\"WER:\", WER)"
   ]
  },
  {
   "cell_type": "code",
   "execution_count": 72,
   "id": "13db90f4",
   "metadata": {},
   "outputs": [
    {
     "name": "stdout",
     "output_type": "stream",
     "text": [
      "CER: 15.4218\n",
      "WER: 48.5\n"
     ]
    }
   ],
   "source": [
    "### With saved pt file state of training\n",
    "\n",
    "print(\"CER:\", CER)\n",
    "print(\"WER:\", WER)"
   ]
  },
  {
   "cell_type": "markdown",
   "id": "0f086e56",
   "metadata": {},
   "source": [
    "### Telugu"
   ]
  },
  {
   "cell_type": "code",
   "execution_count": 18,
   "id": "3ef3d480",
   "metadata": {},
   "outputs": [
    {
     "name": "stdout",
     "output_type": "stream",
     "text": [
      "CER: 9.4353\n",
      "WER: 57.5\n"
     ]
    }
   ],
   "source": [
    "### With saved pt file state of training\n",
    "\n",
    "print(\"CER:\", CER)\n",
    "print(\"WER:\", WER)"
   ]
  },
  {
   "cell_type": "code",
   "execution_count": 84,
   "id": "361d499c",
   "metadata": {},
   "outputs": [
    {
     "name": "stdout",
     "output_type": "stream",
     "text": [
      "CER: 13.9441\n",
      "WER: 69.2\n"
     ]
    }
   ],
   "source": [
    "### With Continous pt file of training\n",
    "\n",
    "print(\"CER:\", CER)\n",
    "print(\"WER:\", WER)"
   ]
  },
  {
   "cell_type": "markdown",
   "id": "6e6e076c",
   "metadata": {},
   "source": [
    "### Tamil"
   ]
  },
  {
   "cell_type": "code",
   "execution_count": null,
   "id": "941f5b90",
   "metadata": {},
   "outputs": [],
   "source": [
    "### With saved pt file state of training\n",
    "\n",
    "print(\"CER:\", CER)\n",
    "print(\"WER:\", WER)"
   ]
  }
 ],
 "metadata": {
  "kernelspec": {
   "display_name": "Python 3 (ipykernel)",
   "language": "python",
   "name": "python3"
  },
  "language_info": {
   "codemirror_mode": {
    "name": "ipython",
    "version": 3
   },
   "file_extension": ".py",
   "mimetype": "text/x-python",
   "name": "python",
   "nbconvert_exporter": "python",
   "pygments_lexer": "ipython3",
   "version": "3.10.6"
  }
 },
 "nbformat": 4,
 "nbformat_minor": 5
}
