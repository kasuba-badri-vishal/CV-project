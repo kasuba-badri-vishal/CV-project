{
 "cells": [
  {
   "cell_type": "markdown",
   "id": "14f88d90",
   "metadata": {},
   "source": [
    "### Imports"
   ]
  },
  {
   "cell_type": "code",
   "execution_count": 26,
   "id": "cd86981a",
   "metadata": {},
   "outputs": [],
   "source": [
    "import os\n",
    "import pandas as pd\n",
    "import shutil\n",
    "from tqdm import tqdm\n",
    "import json"
   ]
  },
  {
   "cell_type": "markdown",
   "id": "90c78cab",
   "metadata": {},
   "source": [
    "### Configuration"
   ]
  },
  {
   "cell_type": "code",
   "execution_count": 27,
   "id": "4a884aa8",
   "metadata": {},
   "outputs": [],
   "source": [
    "sets = ['train', 'val', 'test']\n",
    "languages = ['devanagari', 'tamil', 'telugu']\n",
    "index = 0\n",
    "lang_index = 1\n",
    "\n",
    "# src_path  = './../data/' + sets[index] + 'set/'\n",
    "# dest_path = './../data/' + sets[index] + 'set/' + 'images/'\n",
    "\n",
    "src_path = '/data/BADRI/IHTR/trainset_big/' + languages[lang_index] + '/'\n",
    "dest_path = './../data/' + languages[lang_index] + '/' + sets[index] + '/'\n",
    "\n",
    "if not (os.path.exists(dest_path)):\n",
    "    os.makedirs(dest_path)\n",
    "    \n",
    "if not (os.path.exists(dest_path + 'images/')):\n",
    "    os.makedirs(dest_path)"
   ]
  },
  {
   "cell_type": "code",
   "execution_count": 29,
   "id": "3f0aa7b2",
   "metadata": {},
   "outputs": [
    {
     "name": "stderr",
     "output_type": "stream",
     "text": [
      "87334it [14:27, 100.70it/s] \n"
     ]
    }
   ],
   "source": [
    "df = pd.read_csv(src_path + sets[index] + '.txt',sep=' ', names=['file','token'])\n",
    "\n",
    "count = 0\n",
    "values = {}\n",
    "for _, data in tqdm(df.iterrows()):\n",
    "    out_file = str(count) + '.jpg'\n",
    "    file_name = data['file'].replace(\"train\", \"images\")\n",
    "    shutil.copy2(src_path + file_name, dest_path + 'images/' + out_file)\n",
    "    values[out_file] = data['token']\n",
    "    count += 1"
   ]
  },
  {
   "cell_type": "markdown",
   "id": "6354ce49",
   "metadata": {},
   "source": [
    "### Json File Creation"
   ]
  },
  {
   "cell_type": "code",
   "execution_count": 30,
   "id": "1144701d",
   "metadata": {},
   "outputs": [],
   "source": [
    "with open(dest_path + 'labels.json' , 'w', encoding='utf-8') as f:\n",
    "    json.dump(values, f, ensure_ascii=False, indent=4)"
   ]
  },
  {
   "cell_type": "code",
   "execution_count": null,
   "id": "3dd61657",
   "metadata": {},
   "outputs": [],
   "source": []
  }
 ],
 "metadata": {
  "kernelspec": {
   "display_name": "Python 3 (ipykernel)",
   "language": "python",
   "name": "python3"
  },
  "language_info": {
   "codemirror_mode": {
    "name": "ipython",
    "version": 3
   },
   "file_extension": ".py",
   "mimetype": "text/x-python",
   "name": "python",
   "nbconvert_exporter": "python",
   "pygments_lexer": "ipython3",
   "version": "3.10.6"
  }
 },
 "nbformat": 4,
 "nbformat_minor": 5
}
