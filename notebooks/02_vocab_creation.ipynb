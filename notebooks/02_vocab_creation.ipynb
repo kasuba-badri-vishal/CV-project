{
 "cells": [
  {
   "cell_type": "markdown",
   "id": "249252fd",
   "metadata": {},
   "source": [
    "### Imports"
   ]
  },
  {
   "cell_type": "code",
   "execution_count": 72,
   "id": "41cdc784",
   "metadata": {},
   "outputs": [],
   "source": [
    "import re\n",
    "import pandas as pd\n",
    "from tqdm import tqdm\n",
    "import os"
   ]
  },
  {
   "cell_type": "markdown",
   "id": "1fff7e43",
   "metadata": {},
   "source": [
    "### Configuration"
   ]
  },
  {
   "cell_type": "code",
   "execution_count": 73,
   "id": "8b109dfc",
   "metadata": {},
   "outputs": [],
   "source": [
    "index = 0\n",
    "\n",
    "languages = ['devanagari', 'tamil', 'telugu']\n",
    "unicodes = [ '[\\u0900-\\u097F]+', '[\\u0B80-\\u0BFF]+', '[\\u0C00-\\u0C7F]+']\n",
    "\n",
    "train_path = '/data/BADRI/IHTR/trainset/'\n",
    "val_path = '/data/BADRI/IHTR/validationset_small/'\n",
    "\n",
    "dest_path = './../dataset/' + languages[index]"
   ]
  },
  {
   "cell_type": "markdown",
   "id": "1625c395",
   "metadata": {},
   "source": [
    "### Input Directory"
   ]
  },
  {
   "cell_type": "code",
   "execution_count": 74,
   "id": "6df1c970",
   "metadata": {},
   "outputs": [],
   "source": [
    "df1 = pd.read_csv(train_path + languages[index] + '/train.txt', names=['file','token'], sep=' ')\n",
    "df2 = pd.read_csv(val_path + languages[index] + '/val.txt', names=['file','token'], sep=' ')\n",
    "df = pd.concat([df1,df2])"
   ]
  },
  {
   "cell_type": "markdown",
   "id": "4fe4e930",
   "metadata": {},
   "source": [
    "### Fetching Vocabulary"
   ]
  },
  {
   "cell_type": "code",
   "execution_count": 75,
   "id": "73fb928b",
   "metadata": {},
   "outputs": [],
   "source": [
    "unique_words = []\n",
    "characters = set()\n",
    "hin_re = re.compile(unicodes[index])"
   ]
  },
  {
   "cell_type": "code",
   "execution_count": 76,
   "id": "5bbcd017",
   "metadata": {},
   "outputs": [
    {
     "name": "stdout",
     "output_type": "stream",
     "text": [
      "Unique Characters observed 107\n",
      "{'ध', 'ं', 'ऑ', 'म', 'य़', 'य', 'ज़', 'प', 'ॐ', '॓', '॰', 'स', 'ृ', 'ञ', 'ए', 'ू', 'व', 'अ', '७', '।', 'ऍ', 'ख़', 'ङ', '१', 'ड़', 'ष', 'ण', 'ऋ', 'ओ', 'ग', 'च', 'ऴ', 'ढ', 'थ', 'ऎ', 'ॄ', 'ज', 'ॻ', 'ी', 'न', 'त', 'ग़', '४', 'ँ', 'ठ', 'औ', 'ल', '॔', 'फ', 'उ', 'द', 'ब', 'ॢ', 'ट', '॒', 'े', 'ई', 'ऽ', 'ॾ', 'भ', 'आ', 'ऩ', 'ॠ', '॥', 'ॲ', 'ॅ', '़', 'ॱ', 'ॉ', 'ॽ', '्', 'ौ', 'ऊ', 'ॼ', '८', '५', 'ख', 'ड', 'ु', 'छ', 'घ', 'ळ', 'ऱ', '॑', 'ा', 'ः', 'झ', 'ो', 'ह', 'श', 'इ', 'ि', 'ै', '३', '९', '६', '०', 'र', 'ऐ', 'ॊ', 'ऌ', 'फ़', 'ऒ', 'क', 'ढ़', '२', 'क़'}\n",
      "\n",
      "No of unique words: 9810\n"
     ]
    }
   ],
   "source": [
    "for path in sets:\n",
    "    for word in df['token']:\n",
    "        match = hin_re.match(word)\n",
    "        if(match):\n",
    "            tword = match.group()\n",
    "            if(len(tword) > 32):\n",
    "                print(tword)\n",
    "                continue\n",
    "            if(tword not in unique_words):\n",
    "                unique_words.append(tword)\n",
    "                for c in tword:\n",
    "                    characters.add(c)\n",
    "\n",
    "print(\"Unique Characters observed\",len(characters))\n",
    "print(characters, end='\\n\\n')\n",
    "print(\"No of unique words:\",len(unique_words))"
   ]
  },
  {
   "cell_type": "code",
   "execution_count": 77,
   "id": "34f1220c",
   "metadata": {},
   "outputs": [],
   "source": [
    "vocab_loc = os.path.join(dest_path, \"vocab.txt\")\n",
    "unique_words_loc = os.path.join(dest_path, \"unique_words.txt\")\n",
    "\n",
    "with open(vocab_loc,'w') as f:\n",
    "    f.write(\" \".join(characters))\n",
    "\n",
    "with open(unique_words_loc,'w') as f:\n",
    "    for word in unique_words:\n",
    "        f.write(\"%s\\n\" % word) "
   ]
  }
 ],
 "metadata": {
  "kernelspec": {
   "display_name": "Python 3 (ipykernel)",
   "language": "python",
   "name": "python3"
  },
  "language_info": {
   "codemirror_mode": {
    "name": "ipython",
    "version": 3
   },
   "file_extension": ".py",
   "mimetype": "text/x-python",
   "name": "python",
   "nbconvert_exporter": "python",
   "pygments_lexer": "ipython3",
   "version": "3.10.6"
  }
 },
 "nbformat": 4,
 "nbformat_minor": 5
}
